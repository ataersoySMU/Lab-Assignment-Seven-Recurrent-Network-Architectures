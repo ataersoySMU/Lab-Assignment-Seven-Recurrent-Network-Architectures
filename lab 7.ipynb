{
 "cells": [
  {
   "cell_type": "code",
   "execution_count": 1,
   "id": "d4fe8baa-8568-41a4-9480-cf399fdf9404",
   "metadata": {},
   "outputs": [
    {
     "data": {
      "text/plain": "                                                text  spam\n0  Subject: naturally irresistible your corporate...     1\n1  Subject: the stock trading gunslinger  fanny i...     1\n2  Subject: unbelievable new homes made easy  im ...     1\n3  Subject: 4 color printing special  request add...     1\n4  Subject: do not have money , get software cds ...     1",
      "text/html": "<div>\n<style scoped>\n    .dataframe tbody tr th:only-of-type {\n        vertical-align: middle;\n    }\n\n    .dataframe tbody tr th {\n        vertical-align: top;\n    }\n\n    .dataframe thead th {\n        text-align: right;\n    }\n</style>\n<table border=\"1\" class=\"dataframe\">\n  <thead>\n    <tr style=\"text-align: right;\">\n      <th></th>\n      <th>text</th>\n      <th>spam</th>\n    </tr>\n  </thead>\n  <tbody>\n    <tr>\n      <th>0</th>\n      <td>Subject: naturally irresistible your corporate...</td>\n      <td>1</td>\n    </tr>\n    <tr>\n      <th>1</th>\n      <td>Subject: the stock trading gunslinger  fanny i...</td>\n      <td>1</td>\n    </tr>\n    <tr>\n      <th>2</th>\n      <td>Subject: unbelievable new homes made easy  im ...</td>\n      <td>1</td>\n    </tr>\n    <tr>\n      <th>3</th>\n      <td>Subject: 4 color printing special  request add...</td>\n      <td>1</td>\n    </tr>\n    <tr>\n      <th>4</th>\n      <td>Subject: do not have money , get software cds ...</td>\n      <td>1</td>\n    </tr>\n  </tbody>\n</table>\n</div>"
     },
     "execution_count": 1,
     "metadata": {},
     "output_type": "execute_result"
    }
   ],
   "source": [
    "#Categorizing given email is spam or ham\n",
    "import numpy as np # linear algebra\n",
    "import pandas as pd # data processing, CSV file I/O (e.g. pd.read_csv)\n",
    "import matplotlib.pyplot as plt\n",
    "import time\n",
    "\n",
    "\n",
    "dataset = pd.read_csv('spamham.csv')\n",
    "dataset.head() \n"
   ]
  },
  {
   "cell_type": "code",
   "execution_count": 5,
   "id": "467b37bb-a893-4b59-b417-f2a578dbafc3",
   "metadata": {},
   "outputs": [
    {
     "data": {
      "text/plain": "Index(['text', 'spam'], dtype='object')"
     },
     "execution_count": 5,
     "metadata": {},
     "output_type": "execute_result"
    }
   ],
   "source": [
    "dataset.columns"
   ]
  },
  {
   "cell_type": "code",
   "execution_count": 6,
   "id": "48c928f6-3cae-43fa-9d61-d6fe93282cad",
   "metadata": {},
   "outputs": [
    {
     "data": {
      "text/plain": "(5728, 2)"
     },
     "execution_count": 6,
     "metadata": {},
     "output_type": "execute_result"
    }
   ],
   "source": [
    "dataset.shape"
   ]
  },
  {
   "cell_type": "code",
   "execution_count": 7,
   "id": "c71ee73b-261e-46cf-8e13-a4ac19bb930f",
   "metadata": {},
   "outputs": [
    {
     "data": {
      "text/plain": "(5695, 2)"
     },
     "execution_count": 7,
     "metadata": {},
     "output_type": "execute_result"
    }
   ],
   "source": [
    "#Checking for duplicates and removing them\n",
    "dataset.drop_duplicates(inplace = True)\n",
    "dataset.shape  #(5695, 2)"
   ]
  },
  {
   "cell_type": "code",
   "execution_count": 8,
   "id": "79fb6e2e-c4fb-4046-8597-ce66a66d1328",
   "metadata": {},
   "outputs": [
    {
     "data": {
      "text/plain": "                                                   text  spam\n0     Subject: naturally irresistible your corporate...     1\n1     Subject: the stock trading gunslinger  fanny i...     1\n2     Subject: unbelievable new homes made easy  im ...     1\n3     Subject: 4 color printing special  request add...     1\n4     Subject: do not have money , get software cds ...     1\n...                                                 ...   ...\n5723  Subject: re : research and development charges...     0\n5724  Subject: re : receipts from visit  jim ,  than...     0\n5725  Subject: re : enron case study update  wow ! a...     0\n5726  Subject: re : interest  david ,  please , call...     0\n5727  Subject: news : aurora 5 . 2 update  aurora ve...     0\n\n[5695 rows x 2 columns]",
      "text/html": "<div>\n<style scoped>\n    .dataframe tbody tr th:only-of-type {\n        vertical-align: middle;\n    }\n\n    .dataframe tbody tr th {\n        vertical-align: top;\n    }\n\n    .dataframe thead th {\n        text-align: right;\n    }\n</style>\n<table border=\"1\" class=\"dataframe\">\n  <thead>\n    <tr style=\"text-align: right;\">\n      <th></th>\n      <th>text</th>\n      <th>spam</th>\n    </tr>\n  </thead>\n  <tbody>\n    <tr>\n      <th>0</th>\n      <td>Subject: naturally irresistible your corporate...</td>\n      <td>1</td>\n    </tr>\n    <tr>\n      <th>1</th>\n      <td>Subject: the stock trading gunslinger  fanny i...</td>\n      <td>1</td>\n    </tr>\n    <tr>\n      <th>2</th>\n      <td>Subject: unbelievable new homes made easy  im ...</td>\n      <td>1</td>\n    </tr>\n    <tr>\n      <th>3</th>\n      <td>Subject: 4 color printing special  request add...</td>\n      <td>1</td>\n    </tr>\n    <tr>\n      <th>4</th>\n      <td>Subject: do not have money , get software cds ...</td>\n      <td>1</td>\n    </tr>\n    <tr>\n      <th>...</th>\n      <td>...</td>\n      <td>...</td>\n    </tr>\n    <tr>\n      <th>5723</th>\n      <td>Subject: re : research and development charges...</td>\n      <td>0</td>\n    </tr>\n    <tr>\n      <th>5724</th>\n      <td>Subject: re : receipts from visit  jim ,  than...</td>\n      <td>0</td>\n    </tr>\n    <tr>\n      <th>5725</th>\n      <td>Subject: re : enron case study update  wow ! a...</td>\n      <td>0</td>\n    </tr>\n    <tr>\n      <th>5726</th>\n      <td>Subject: re : interest  david ,  please , call...</td>\n      <td>0</td>\n    </tr>\n    <tr>\n      <th>5727</th>\n      <td>Subject: news : aurora 5 . 2 update  aurora ve...</td>\n      <td>0</td>\n    </tr>\n  </tbody>\n</table>\n<p>5695 rows × 2 columns</p>\n</div>"
     },
     "execution_count": 8,
     "metadata": {},
     "output_type": "execute_result"
    }
   ],
   "source": [
    "dataset"
   ]
  },
  {
   "cell_type": "code",
   "execution_count": 9,
   "id": "d6db8a75-e984-4ca0-be1d-59abe38808b6",
   "metadata": {},
   "outputs": [
    {
     "name": "stdout",
     "output_type": "stream",
     "text": [
      "      0\n",
      "text  0\n",
      "spam  0\n"
     ]
    }
   ],
   "source": [
    "#Checking for any null entries in the dataset\n",
    "print (pd.DataFrame(dataset.isnull().sum()))"
   ]
  },
  {
   "cell_type": "code",
   "execution_count": 10,
   "id": "90744fc5-b0d3-431c-a0dd-3cec7abd1d72",
   "metadata": {},
   "outputs": [
    {
     "data": {
      "text/plain": "      text\nspam      \n0     4327\n1     1368",
      "text/html": "<div>\n<style scoped>\n    .dataframe tbody tr th:only-of-type {\n        vertical-align: middle;\n    }\n\n    .dataframe tbody tr th {\n        vertical-align: top;\n    }\n\n    .dataframe thead th {\n        text-align: right;\n    }\n</style>\n<table border=\"1\" class=\"dataframe\">\n  <thead>\n    <tr style=\"text-align: right;\">\n      <th></th>\n      <th>text</th>\n    </tr>\n    <tr>\n      <th>spam</th>\n      <th></th>\n    </tr>\n  </thead>\n  <tbody>\n    <tr>\n      <th>0</th>\n      <td>4327</td>\n    </tr>\n    <tr>\n      <th>1</th>\n      <td>1368</td>\n    </tr>\n  </tbody>\n</table>\n</div>"
     },
     "execution_count": 10,
     "metadata": {},
     "output_type": "execute_result"
    }
   ],
   "source": [
    "#Checking class distribution\n",
    "dataset.groupby('spam').count()"
   ]
  },
  {
   "cell_type": "code",
   "execution_count": 11,
   "id": "c68fc2b9-2215-47ae-9f6f-48ce91e4a185",
   "metadata": {},
   "outputs": [
    {
     "data": {
      "text/plain": "                                                   text  spam\n0     Subject: naturally irresistible your corporate...     1\n1     Subject: the stock trading gunslinger  fanny i...     1\n2     Subject: unbelievable new homes made easy  im ...     1\n3     Subject: 4 color printing special  request add...     1\n4     Subject: do not have money , get software cds ...     1\n...                                                 ...   ...\n5723  Subject: re : research and development charges...     0\n5724  Subject: re : receipts from visit  jim ,  than...     0\n5725  Subject: re : enron case study update  wow ! a...     0\n5726  Subject: re : interest  david ,  please , call...     0\n5727  Subject: news : aurora 5 . 2 update  aurora ve...     0\n\n[5695 rows x 2 columns]",
      "text/html": "<div>\n<style scoped>\n    .dataframe tbody tr th:only-of-type {\n        vertical-align: middle;\n    }\n\n    .dataframe tbody tr th {\n        vertical-align: top;\n    }\n\n    .dataframe thead th {\n        text-align: right;\n    }\n</style>\n<table border=\"1\" class=\"dataframe\">\n  <thead>\n    <tr style=\"text-align: right;\">\n      <th></th>\n      <th>text</th>\n      <th>spam</th>\n    </tr>\n  </thead>\n  <tbody>\n    <tr>\n      <th>0</th>\n      <td>Subject: naturally irresistible your corporate...</td>\n      <td>1</td>\n    </tr>\n    <tr>\n      <th>1</th>\n      <td>Subject: the stock trading gunslinger  fanny i...</td>\n      <td>1</td>\n    </tr>\n    <tr>\n      <th>2</th>\n      <td>Subject: unbelievable new homes made easy  im ...</td>\n      <td>1</td>\n    </tr>\n    <tr>\n      <th>3</th>\n      <td>Subject: 4 color printing special  request add...</td>\n      <td>1</td>\n    </tr>\n    <tr>\n      <th>4</th>\n      <td>Subject: do not have money , get software cds ...</td>\n      <td>1</td>\n    </tr>\n    <tr>\n      <th>...</th>\n      <td>...</td>\n      <td>...</td>\n    </tr>\n    <tr>\n      <th>5723</th>\n      <td>Subject: re : research and development charges...</td>\n      <td>0</td>\n    </tr>\n    <tr>\n      <th>5724</th>\n      <td>Subject: re : receipts from visit  jim ,  than...</td>\n      <td>0</td>\n    </tr>\n    <tr>\n      <th>5725</th>\n      <td>Subject: re : enron case study update  wow ! a...</td>\n      <td>0</td>\n    </tr>\n    <tr>\n      <th>5726</th>\n      <td>Subject: re : interest  david ,  please , call...</td>\n      <td>0</td>\n    </tr>\n    <tr>\n      <th>5727</th>\n      <td>Subject: news : aurora 5 . 2 update  aurora ve...</td>\n      <td>0</td>\n    </tr>\n  </tbody>\n</table>\n<p>5695 rows × 2 columns</p>\n</div>"
     },
     "execution_count": 11,
     "metadata": {},
     "output_type": "execute_result"
    }
   ],
   "source": [
    "dataset"
   ]
  },
  {
   "cell_type": "code",
   "execution_count": 12,
   "id": "e8a83efa-1c0a-41d3-a89c-348d3f86346c",
   "metadata": {},
   "outputs": [
    {
     "data": {
      "text/plain": "5695"
     },
     "execution_count": 12,
     "metadata": {},
     "output_type": "execute_result"
    }
   ],
   "source": [
    "len(dataset.text)"
   ]
  },
  {
   "cell_type": "code",
   "execution_count": 13,
   "id": "b94e34d2-e6da-4dc8-9357-171f321dde03",
   "metadata": {},
   "outputs": [
    {
     "name": "stdout",
     "output_type": "stream",
     "text": [
      "--------Random Document---------\n",
      "================================\n",
      "Document Label:  [1]\n",
      "================================\n",
      "Subject: breaking news : e - mail margin - bottom : 0 \" >  e - mail  marketing system  -  bulk e - mail will make you money so fast , your head will spin !  - customers say we would no longer be in business without it  - new package deal includes everything you need .  see this product ' s web page  click  here  1  million business leads on cd  -  for telemarketing , mailing , or faxing this list is a gold mine !  - contains company name , address , phone , fax , sic , size .  - list allows for unlimited use .  see this product ' s web page click  here  fax  marketing system  -  fax broadcasting is the hot new way to market your business !  - people are 10 times more likely to read faxes than direct mail .  - software 4 million leads turns your computer into a fax blaster .  see this product ' s web page click  here  visit  our web site or call 618 - 288 - 6661  to be taken off of  our list click here \n"
     ]
    }
   ],
   "source": [
    "import numpy as np\n",
    "\n",
    "# display a random document and label\n",
    "idx = round(np.random.rand()*len(dataset.text))\n",
    "print('--------Random Document---------')\n",
    "print('================================')\n",
    "print('Document Label: ',[dataset.spam[idx]])\n",
    "print('================================')\n",
    "print(\"\\n\".join(dataset.text[idx].split(\"\\n\")))"
   ]
  },
  {
   "cell_type": "code",
   "execution_count": 14,
   "id": "b567fd7e-79dc-4445-b575-12fbf0677aef",
   "metadata": {},
   "outputs": [
    {
     "data": {
      "text/plain": "array([<AxesSubplot: title={'center': '0'}>,\n       <AxesSubplot: title={'center': '1'}>], dtype=object)"
     },
     "execution_count": 14,
     "metadata": {},
     "output_type": "execute_result"
    },
    {
     "data": {
      "text/plain": "<Figure size 640x480 with 2 Axes>",
      "image/png": "[encoded data removed]"
     },
     "metadata": {},
     "output_type": "display_data"
    },
    {
     "data": {
      "text/plain": "<Figure size 640x480 with 2 Axes>",
      "image/png": "[encoded data removed]"
     },
     "metadata": {},
     "output_type": "display_data"
    }
   ],
   "source": [
    "dataset['length'] = dataset['text'].map(lambda text: len(text))\n",
    "#Let's plot histogram for length distribution by spam\n",
    "dataset.hist(column='length', by='spam', bins=50)\n",
    "#we can see some extreme outliers, we'll set a threshold for text length and plot the histogram again\n",
    "dataset[dataset.length < 10000].hist(column='length', by='spam', bins=100)\n",
    "#Using Natural Language Processing to cleaning the text to make one corpus\n"
   ]
  },
  {
   "cell_type": "code",
   "execution_count": 17,
   "id": "ed9068d0-e692-4182-8ab8-5647c8bc5f2c",
   "metadata": {},
   "outputs": [
    {
     "name": "stdout",
     "output_type": "stream",
     "text": [
      "Found 37353 unique tokens. Distilled to 37353 top words.\n",
      "Shape of data tensor: (5695, 250)\n",
      "Shape of label tensor: (5695,)\n",
      "37353\n",
      "Wall time: 1.62 s\n",
      "Found 37353 unique tokens. Distilled to 37353 top words.\n",
      "Shape of data tensor: (5695, 250)\n",
      "Shape of label tensor: (5695,)\n",
      "37353\n",
      "Wall time: 1.49 s\n"
     ]
    }
   ],
   "source": [
    "%%time\n",
    "from tensorflow import keras\n",
    "from tensorflow.keras.preprocessing.text import Tokenizer\n",
    "from tensorflow.keras.preprocessing.sequence import pad_sequences\n",
    "\n",
    "NUM_TOP_WORDS = None # use entire vocabulary!\n",
    "MAX_ART_LEN = 250 # maximum and minimum number of words\n",
    "\n",
    "#tokenize the text\n",
    "tokenizer = Tokenizer(num_words=NUM_TOP_WORDS)\n",
    "tokenizer.fit_on_texts(dataset.text)\n",
    "# save as sequences with integers replacing words\n",
    "sequences = tokenizer.texts_to_sequences(dataset.text)\n",
    "\n",
    "word_index = tokenizer.word_index\n",
    "NUM_TOP_WORDS = len(word_index) if NUM_TOP_WORDS==None else NUM_TOP_WORDS\n",
    "top_words = min((len(word_index),NUM_TOP_WORDS))\n",
    "print('Found %s unique tokens. Distilled to %d top words.' % (len(word_index),top_words))\n",
    "\n",
    "X = pad_sequences(sequences, maxlen=MAX_ART_LEN)\n",
    "\n",
    "y_ohe = dataset.spam\n",
    "print('Shape of data tensor:', X.shape)\n",
    "print('Shape of label tensor:', y_ohe.shape)\n",
    "print(np.max(X))"
   ]
  },
  {
   "cell_type": "code",
   "execution_count": 18,
   "id": "98f58e2d-5719-4799-adac-a777650153cf",
   "metadata": {},
   "outputs": [
    {
     "data": {
      "text/plain": "array([0, 1], dtype=int64)"
     },
     "execution_count": 18,
     "metadata": {},
     "output_type": "execute_result"
    }
   ],
   "source": [
    "np.unique(y_ohe)"
   ]
  },
  {
   "cell_type": "code",
   "execution_count": 19,
   "id": "20e218eb-6f81-4988-a670-67c7307ad19e",
   "metadata": {},
   "outputs": [
    {
     "data": {
      "text/plain": "5695"
     },
     "execution_count": 19,
     "metadata": {},
     "output_type": "execute_result"
    }
   ],
   "source": [
    "len(X)"
   ]
  },
  {
   "cell_type": "code",
   "execution_count": 20,
   "id": "51d47266-4763-45b8-b7af-d2c412c435d9",
   "metadata": {},
   "outputs": [
    {
     "data": {
      "text/plain": "array([    0,     1,     2, ..., 37347, 37348, 37353])"
     },
     "execution_count": 20,
     "metadata": {},
     "output_type": "execute_result"
    }
   ],
   "source": [
    "np.unique(X)"
   ]
  },
  {
   "cell_type": "code",
   "execution_count": 21,
   "id": "22d5be1e-4d31-459c-b5d0-6f911d8e35db",
   "metadata": {},
   "outputs": [
    {
     "data": {
      "text/plain": "(5695, 250)"
     },
     "execution_count": 21,
     "metadata": {},
     "output_type": "execute_result"
    }
   ],
   "source": [
    "X.shape"
   ]
  },
  {
   "cell_type": "code",
   "execution_count": 22,
   "id": "d5c64f7b-3f27-4eaf-b321-b0b4caacc9e2",
   "metadata": {},
   "outputs": [
    {
     "data": {
      "text/plain": "array([    0,     0,     0,     0,     0,     0,     0,     0,     0,\n           0,     0,     0,     0,     0,     0,     0,     0,     0,\n           0,     0,     0,     0,     0,     0,     0,     0,     0,\n           0,     0,     0,     0,     0,     0,     0,     0,     0,\n           0,     0,     0,     0,     0,     0,     0,     0,     0,\n           0,     0,     0,     0,     0,     0,     0,     0,     0,\n           0,     0,     0,     0,     0,     0,    15,  5808, 12284,\n          18,   520,  1782,  3908,    12,   463,   903,     2,  4410,\n           5,   103,     1,   118,    12,   402,     4,  6299,     3,\n           1,    68,  9194,    76,     5,   171,  4520,   840,  6060,\n        6061,     3,  1684,   291,    23,   125,     1,  2162,   227,\n        1853,    21,    60,    40,  2001,    17,  8015,  1711,     5,\n        4305,    18,   103,    23, 11008,   688,     5,   405,  5809,\n          27,  6573,  8016,    17,   488,   171,   347,   876,    78,\n         855,     3,  4521,  3047,    27,    23,    19,  4652,  4411,\n         118,    76,    21,    60,  2001,    17,    18,   455,   783,\n          23,   688,   227,    73,   876,    94,    12,     1,   174,\n           4,  1024,  1286,  4522,  1101,   305,   279,  2504,  3539,\n         563,     2,  2037,    18,  4306,   103,  1259,  1143,   840,\n           3,  1437,    28,   705,     7,    53,  2562,   836,     2,\n         168,   689,   117,   248,  4653,   451,    18,   291,   689,\n           3,   442,   164,   961,  4523,     6,    23,   127,   840,\n        4189,   262,   505,    78,   286,  4524,    18,   455,  1384,\n         214,  3540,    14,   101,   125,  3753,     7,    18,  1355,\n         490,  2123,  1287,    21,   251,  2019,   737,     4,   438,\n          20,   112,  1482,  2054,     9,     6,     2,    19,  4654,\n           6,    23,  1303,     1,   919,     4,    16,  2399,    24,\n           5,   157,    25,    43,   693,    40,   215])"
     },
     "execution_count": 22,
     "metadata": {},
     "output_type": "execute_result"
    }
   ],
   "source": [
    "X[0]"
   ]
  },
  {
   "cell_type": "code",
   "execution_count": 26,
   "outputs": [
    {
     "name": "stdout",
     "output_type": "stream",
     "text": [
      "Collecting imblearn\n",
      "  Using cached imblearn-0.0-py2.py3-none-any.whl (1.9 kB)\n",
      "Collecting imbalanced-learn\n",
      "  Downloading imbalanced_learn-0.10.0-py3-none-any.whl (225 kB)\n",
      "     -------------------------------------- 225.4/225.4 kB 4.6 MB/s eta 0:00:00\n",
      "Requirement already satisfied: threadpoolctl>=2.0.0 in c:\\programdata\\anaconda3\\lib\\site-packages (from imbalanced-learn->imblearn) (2.2.0)\n",
      "Requirement already satisfied: numpy>=1.17.3 in c:\\programdata\\anaconda3\\lib\\site-packages (from imbalanced-learn->imblearn) (1.22.4)\n",
      "Requirement already satisfied: scipy>=1.3.2 in c:\\programdata\\anaconda3\\lib\\site-packages (from imbalanced-learn->imblearn) (1.7.3)\n",
      "Requirement already satisfied: scikit-learn>=1.0.2 in c:\\programdata\\anaconda3\\lib\\site-packages (from imbalanced-learn->imblearn) (1.0.2)\n",
      "Collecting joblib>=1.1.1\n",
      "  Using cached joblib-1.2.0-py3-none-any.whl (297 kB)\n",
      "Installing collected packages: joblib, imbalanced-learn, imblearn\n",
      "  Attempting uninstall: joblib\n",
      "    Found existing installation: joblib 1.1.0\n",
      "    Uninstalling joblib-1.1.0:\n",
      "      Successfully uninstalled joblib-1.1.0\n",
      "Successfully installed imbalanced-learn-0.10.0 imblearn-0.0 joblib-1.2.0\n"
     ]
    }
   ],
   "source": [
    "!pip install imblearn\n"
   ],
   "metadata": {
    "collapsed": false
   }
  },
  {
   "cell_type": "code",
   "execution_count": 27,
   "id": "8893de01-ec4b-4a4b-90e7-2a3867fcb16f",
   "metadata": {},
   "outputs": [
    {
     "name": "stdout",
     "output_type": "stream",
     "text": [
      "Is any y value is NaN: False\n"
     ]
    },
    {
     "data": {
      "text/plain": "<Figure size 640x480 with 1 Axes>",
      "image/png": "[encoded data removed]"
     },
     "metadata": {},
     "output_type": "display_data"
    },
    {
     "data": {
      "text/plain": "<Figure size 640x480 with 1 Axes>",
      "image/png": "[encoded data removed]"
     },
     "metadata": {},
     "output_type": "display_data"
    }
   ],
   "source": [
    "from imblearn.under_sampling import RandomUnderSampler\n",
    "from collections import Counter\n",
    "\n",
    "#Use undersampling to make every \n",
    "rus = RandomUnderSampler(random_state=0)\n",
    "X_resampled, y_resampled = rus.fit_resample(X, y_ohe)\n",
    "print(f'Is any y value is NaN: {np.isnan(y_ohe).any()}')\n",
    "\n",
    "plt.hist(y_ohe)\n",
    "plt.title(\"Original Class Frequency\")\n",
    "plt.show()\n",
    "\n",
    "plt.hist(y_resampled)\n",
    "plt.title(\"Resampled Class frequency\")\n",
    "plt.show()\n",
    "\n"
   ]
  },
  {
   "cell_type": "code",
   "execution_count": 28,
   "id": "cb95c3b0-935f-4c50-a2b9-5ba1286c9d32",
   "metadata": {},
   "outputs": [
    {
     "name": "stdout",
     "output_type": "stream",
     "text": [
      "X_train Shape: (2188, 250) Label Shape: (2188,)\n"
     ]
    },
    {
     "data": {
      "text/plain": "<Figure size 640x480 with 1 Axes>",
      "image/png": "[encoded data removed]"
     },
     "metadata": {},
     "output_type": "display_data"
    }
   ],
   "source": [
    "import math\n",
    "from sklearn.model_selection import train_test_split\n",
    "from sklearn import metrics as mt\n",
    "from matplotlib import pyplot as plt\n",
    "%matplotlib inline\n",
    "\n",
    "# Split it into train / test subsets\n",
    "X_train, X_test, y_train_ohe, y_test_ohe = train_test_split(X_resampled, y_resampled, test_size=0.2,\n",
    "                                                            stratify=y_resampled,\n",
    "                                                            random_state=42)\n",
    "NUM_CLASSES = 1\n",
    "\n",
    "# print some stats of the data\n",
    "print(\"X_train Shape:\",X_train.shape, \"Label Shape:\", y_train_ohe.shape)\n",
    "uniq_classes = np.sum(y_train_ohe,axis=0)\n",
    "plt.hist(y_train_ohe)\n",
    "plt.ylabel(\"Number of Instances in Each Class\")\n",
    "\n",
    "new_list = range(math.floor(min(y_test_ohe)), math.ceil(max(y_test_ohe))+1)\n",
    "plt.xticks(new_list)\n",
    "plt.title(\"Training Sizes for each target\")\n",
    "\n",
    "\n",
    "plt.show()\n"
   ]
  },
  {
   "cell_type": "code",
   "execution_count": 29,
   "id": "ccd7759d-13c1-442f-a7d5-609499f577db",
   "metadata": {},
   "outputs": [
    {
     "data": {
      "text/plain": "Text(0, 0.5, 'Number of Instances in Each Class')"
     },
     "execution_count": 29,
     "metadata": {},
     "output_type": "execute_result"
    },
    {
     "data": {
      "text/plain": "<Figure size 640x480 with 1 Axes>",
      "image/png": "[encoded data removed]"
     },
     "metadata": {},
     "output_type": "display_data"
    }
   ],
   "source": [
    "uniq_classes = np.sum(y_test_ohe,axis=0)\n",
    "plt.hist(y_test_ohe)\n",
    "plt.title(\"Test Sizes for each target\")\n",
    "plt.ylabel(\"Number of Instances in Each Class\")\n"
   ]
  },
  {
   "cell_type": "markdown",
   "source": [
    "##  Creating simple RNN model"
   ],
   "metadata": {
    "collapsed": false
   }
  },
  {
   "cell_type": "code",
   "execution_count": 30,
   "id": "15d07024-58fe-4485-9056-70a3c611585c",
   "metadata": {},
   "outputs": [],
   "source": [
    "# show example without the FOR loop\n",
    "from tensorflow.keras.models import Sequential, Model\n",
    "from tensorflow.keras.layers import Dense, Input, SimpleRNN\n",
    "from tensorflow.keras.layers import Embedding\n",
    "\n",
    "EMBED_SIZE = 50\n",
    "RNN_STATESIZE = 100\n",
    "rnns = []\n",
    "input_holder = Input(shape=(X_train.shape[1], ))\n",
    "shared_embed = Embedding(top_words, # input dimension (max int of OHE)\n",
    "                EMBED_SIZE, # output dimension size\n",
    "                input_length=MAX_ART_LEN)(input_holder) # number of words in each sequence\n",
    "\n",
    "\n",
    "x = SimpleRNN(RNN_STATESIZE, dropout=0.2, recurrent_dropout=0.2)(shared_embed)\n",
    "x = Dense(NUM_CLASSES, activation='sigmoid')(x)\n",
    "simple_rnn_model = Model(inputs=input_holder,outputs=x)"
   ]
  },
  {
   "cell_type": "code",
   "execution_count": 32,
   "id": "2aa49baf-b484-4b5a-9581-557e4b10050a",
   "metadata": {},
   "outputs": [
    {
     "name": "stdout",
     "output_type": "stream",
     "text": [
      "Model: \"model\"\n",
      "_________________________________________________________________\n",
      " Layer (type)                Output Shape              Param #   \n",
      "=================================================================\n",
      " input_1 (InputLayer)        [(None, 250)]             0         \n",
      "                                                                 \n",
      " embedding (Embedding)       (None, 250, 50)           1867650   \n",
      "                                                                 \n",
      " simple_rnn (SimpleRNN)      (None, 100)               15100     \n",
      "                                                                 \n",
      " dense (Dense)               (None, 1)                 101       \n",
      "                                                                 \n",
      "=================================================================\n",
      "Total params: 1,882,851\n",
      "Trainable params: 1,882,851\n",
      "Non-trainable params: 0\n",
      "_________________________________________________________________\n",
      "None\n",
      "Model: \"model_3\"\n",
      "_________________________________________________________________\n",
      " Layer (type)                Output Shape              Param #   \n",
      "=================================================================\n",
      " input_1 (InputLayer)        [(None, 250)]             0         \n",
      "                                                                 \n",
      " embedding (Embedding)       (None, 250, 50)           1867650   \n",
      "                                                                 \n",
      " lstm_1 (LSTM)               (None, 100)               60400     \n",
      "                                                                 \n",
      " dense_3 (Dense)             (None, 1)                 101       \n",
      "                                                                 \n",
      "=================================================================\n",
      "Total params: 1,928,151\n",
      "Trainable params: 1,928,151\n",
      "Non-trainable params: 0\n",
      "_________________________________________________________________\n",
      "None\n",
      "Model: \"model_4\"\n",
      "_________________________________________________________________\n",
      " Layer (type)                Output Shape              Param #   \n",
      "=================================================================\n",
      " input_1 (InputLayer)        [(None, 250)]             0         \n",
      "                                                                 \n",
      " embedding (Embedding)       (None, 250, 50)           1867650   \n",
      "                                                                 \n",
      " gru_1 (GRU)                 (None, 100)               45600     \n",
      "                                                                 \n",
      " dense_4 (Dense)             (None, 1)                 101       \n",
      "                                                                 \n",
      "=================================================================\n",
      "Total params: 1,913,351\n",
      "Trainable params: 1,913,351\n",
      "Non-trainable params: 0\n",
      "_________________________________________________________________\n",
      "None\n"
     ]
    }
   ],
   "source": [
    "from tensorflow.keras.layers import LSTM, GRU\n",
    "from tensorflow.keras.optimizers import Adam\n",
    "from tensorflow.keras.optimizers.schedules import ExponentialDecay\n",
    "import tensorflow as tf\n",
    "\n",
    "# create LSTM\n",
    "x = LSTM(RNN_STATESIZE, dropout=0.2, recurrent_dropout=0.2)(shared_embed)\n",
    "x = Dense(NUM_CLASSES, activation='sigmoid')(x)\n",
    "lstm_model = Model(inputs=input_holder,outputs=x)\n",
    "\n",
    "# create GRU\n",
    "x = GRU(RNN_STATESIZE, dropout=0.2, recurrent_dropout=0.2)(shared_embed)\n",
    "x = Dense(NUM_CLASSES, activation='sigmoid')(x)\n",
    "gru_model = Model(inputs=input_holder,outputs=x)\n",
    "\n",
    "# lr_schedule = ExponentialDecay(\n",
    "#     initial_learning_rate=0.1,\n",
    "#     decay_steps=10000,\n",
    "#     decay_rate=0.95) \n",
    "\n",
    "opt = Adam(learning_rate=0.0001, epsilon=0.00005, clipnorm=1.0)\n",
    "\n",
    "simple_rnn_model.compile(loss='binary_crossentropy', \n",
    "              optimizer= opt, \n",
    "              metrics=[tf.keras.metrics.Recall()])\n",
    "\n",
    "lstm_model.compile(loss='binary_crossentropy', \n",
    "              optimizer= opt, \n",
    "              metrics=[tf.keras.metrics.Recall()])\n",
    "\n",
    "gru_model.compile(loss='binary_crossentropy', \n",
    "              optimizer= opt, \n",
    "              metrics=[tf.keras.metrics.Recall()])\n",
    "\n",
    "print(simple_rnn_model.summary())\n",
    "print(lstm_model.summary())\n",
    "print(gru_model.summary())\n"
   ]
  },
  {
   "cell_type": "markdown",
   "source": [
    "## history_lstm"
   ],
   "metadata": {
    "collapsed": false
   }
  },
  {
   "cell_type": "code",
   "execution_count": 34,
   "id": "d5d5af81-d2e3-4f4a-900a-ed99fb483726",
   "metadata": {},
   "outputs": [
    {
     "name": "stdout",
     "output_type": "stream",
     "text": [
      "Epoch 1/8\n",
      "69/69 [==============================] - 31s 447ms/step - loss: 0.6905 - recall_4: 0.7349 - val_loss: 0.6884 - val_recall_4: 0.7226\n",
      "Epoch 2/8\n",
      "69/69 [==============================] - 31s 443ms/step - loss: 0.6846 - recall_4: 0.7605 - val_loss: 0.6792 - val_recall_4: 0.7883\n",
      "Epoch 3/8\n",
      "69/69 [==============================] - 30s 441ms/step - loss: 0.5964 - recall_4: 0.8876 - val_loss: 0.4923 - val_recall_4: 0.9307\n",
      "Epoch 4/8\n",
      "69/69 [==============================] - 31s 452ms/step - loss: 0.3671 - recall_4: 0.9022 - val_loss: 0.3160 - val_recall_4: 0.9343\n",
      "Epoch 5/8\n",
      "69/69 [==============================] - 31s 446ms/step - loss: 0.2374 - recall_4: 0.9433 - val_loss: 0.2171 - val_recall_4: 0.9562\n",
      "Epoch 6/8\n",
      "69/69 [==============================] - 32s 464ms/step - loss: 0.1362 - recall_4: 0.9781 - val_loss: 0.1754 - val_recall_4: 0.9562\n",
      "Epoch 7/8\n",
      "69/69 [==============================] - 32s 459ms/step - loss: 0.0986 - recall_4: 0.9872 - val_loss: 0.1844 - val_recall_4: 0.9562\n",
      "Epoch 8/8\n",
      "69/69 [==============================] - 32s 466ms/step - loss: 0.1085 - recall_4: 0.9826 - val_loss: 0.1628 - val_recall_4: 0.9599\n"
     ]
    }
   ],
   "source": [
    "# takes about 2 hours to run\n",
    "#simple_rnn_model.fit(X_train, y_train, epochs=3, batch_size=64, validation_data=(X_test, y_test))\n",
    "history_lstm=lstm_model.fit(X_train, y_train_ohe, epochs=8, batch_size=32, validation_data=(X_test, y_test_ohe))\n",
    "#gru_model.fit(X_train, y_train, epochs=3, batch_size=64, validation_data=(X_test, y_test))"
   ]
  },
  {
   "cell_type": "code",
   "execution_count": 35,
   "id": "99f41a15-3e24-4d84-b9f9-45002150779b",
   "metadata": {},
   "outputs": [
    {
     "name": "stdout",
     "output_type": "stream",
     "text": [
      "Epoch 1/8\n",
      "69/69 [==============================] - 33s 436ms/step - loss: 0.6668 - recall_5: 0.8501 - val_loss: 0.6381 - val_recall_5: 0.8796\n",
      "Epoch 2/8\n",
      "69/69 [==============================] - 29s 420ms/step - loss: 0.4464 - recall_5: 0.9369 - val_loss: 0.1447 - val_recall_5: 0.9708\n",
      "Epoch 3/8\n",
      "69/69 [==============================] - 29s 422ms/step - loss: 0.0774 - recall_5: 0.9872 - val_loss: 0.0929 - val_recall_5: 0.9854\n",
      "Epoch 4/8\n",
      "69/69 [==============================] - 32s 457ms/step - loss: 0.0581 - recall_5: 0.9890 - val_loss: 0.1397 - val_recall_5: 0.9489\n",
      "Epoch 5/8\n",
      "69/69 [==============================] - 31s 444ms/step - loss: 0.0460 - recall_5: 0.9899 - val_loss: 0.0676 - val_recall_5: 0.9745\n",
      "Epoch 6/8\n",
      "69/69 [==============================] - 30s 436ms/step - loss: 0.0373 - recall_5: 0.9890 - val_loss: 0.0636 - val_recall_5: 0.9854\n",
      "Epoch 7/8\n",
      "69/69 [==============================] - 29s 423ms/step - loss: 0.0223 - recall_5: 0.9991 - val_loss: 0.0628 - val_recall_5: 0.9708\n",
      "Epoch 8/8\n",
      "69/69 [==============================] - 31s 452ms/step - loss: 0.0214 - recall_5: 0.9982 - val_loss: 0.0721 - val_recall_5: 0.9818\n"
     ]
    }
   ],
   "source": [
    "history_gru=gru_model.fit(X_train, y_train_ohe, epochs=8, batch_size=32, validation_data=(X_test, y_test_ohe))"
   ]
  },
  {
   "cell_type": "code",
   "execution_count": 38,
   "id": "b1c1b933-ecfd-4c24-979e-c7bc31934184",
   "metadata": {},
   "outputs": [
    {
     "data": {
      "text/plain": "<matplotlib.legend.Legend at 0x1e51315ccd0>"
     },
     "execution_count": 38,
     "metadata": {},
     "output_type": "execute_result"
    },
    {
     "data": {
      "text/plain": "<Figure size 640x480 with 1 Axes>",
      "image/png": "[encoded data removed]"
     },
     "metadata": {},
     "output_type": "display_data"
    }
   ],
   "source": [
    "import matplotlib.pyplot as plt\n",
    "gru_acc=history_gru.history['val_recall_5']\n",
    "lstm_acc=history_lstm.history['val_recall_4']\n",
    "epoch=[1,2,3,4,5,6,7,8]\n",
    "plt.plot(epoch,lstm_acc)\n",
    "plt.plot(epoch,gru_acc)\n",
    "plt.title('Accuracy Scores for LSTM and GRU')\n",
    "plt.ylim([0.5, 1])\n",
    "plt.ylim([0.5, 1])\n",
    "plt.ylim([0.5, 1])\n",
    "plt.xlabel('Number of Epochs')\n",
    "plt.ylabel('Recall Score')\n",
    "#new_list = range(math.floor(0, 6)\n",
    "plt.xticks([1,2,3,4,5,6,7,8])\n",
    "plt.legend([\"LSTM\", \"GRU\"])"
   ]
  },
  {
   "cell_type": "markdown",
   "source": [
    "##"
   ],
   "metadata": {
    "collapsed": false
   }
  },
  {
   "cell_type": "code",
   "execution_count": 43,
   "outputs": [
    {
     "name": "stdout",
     "output_type": "stream",
     "text": [
      "Model: \"model_8\"\n",
      "__________________________________________________________________________________________________\n",
      " Layer (type)                   Output Shape         Param #     Connected to                     \n",
      "==================================================================================================\n",
      " input_1 (InputLayer)           [(None, 250)]        0           []                               \n",
      "                                                                                                  \n",
      " embedding (Embedding)          (None, 250, 50)      1867650     ['input_1[0][0]']                \n",
      "                                                                                                  \n",
      " gru_7 (GRU)                    (None, 100)          45600       ['embedding[0][0]']              \n",
      "                                                                                                  \n",
      " dense_8 (Dense)                (None, 1)            101         ['gru_7[0][0]']                  \n",
      "                                                                                                  \n",
      " gru_8 (GRU)                    (None, 100)          45600       ['embedding[0][0]']              \n",
      "                                                                                                  \n",
      " concatenate_3 (Concatenate)    (None, 101)          0           ['dense_8[0][0]',                \n",
      "                                                                  'gru_8[0][0]']                  \n",
      "                                                                                                  \n",
      " dense_9 (Dense)                (None, 1)            102         ['concatenate_3[0][0]']          \n",
      "                                                                                                  \n",
      "==================================================================================================\n",
      "Total params: 1,959,053\n",
      "Trainable params: 1,959,053\n",
      "Non-trainable params: 0\n",
      "__________________________________________________________________________________________________\n",
      "None\n"
     ]
    }
   ],
   "source": [
    "# Import the Concatenate layer from Keras\n",
    "from keras.layers import Concatenate\n",
    "\n",
    "x = GRU(RNN_STATESIZE, dropout=0.2, recurrent_dropout=0.2)(shared_embed)\n",
    "x = Dense(NUM_CLASSES, activation='sigmoid')(x)\n",
    "\n",
    "# Add the second GRU layer\n",
    "x2 = GRU(RNN_STATESIZE, dropout=0.2, recurrent_dropout=0.2)(shared_embed)\n",
    "\n",
    "# Concatenate the outputs of the first and second GRU layers\n",
    "x = Concatenate()([x, x2])\n",
    "\n",
    "# Add the final dense layer\n",
    "x = Dense(NUM_CLASSES, activation='sigmoid')(x)\n",
    "\n",
    "# Create the model\n",
    "gru_model_2 = Model(inputs=input_holder,outputs=x)\n",
    "\n",
    "gru_model_2.compile(loss='binary_crossentropy',\n",
    "              optimizer= opt,\n",
    "              metrics=[tf.keras.metrics.Recall()])\n",
    "\n",
    "print(gru_model_2.summary())"
   ],
   "metadata": {
    "collapsed": false
   }
  },
  {
   "cell_type": "code",
   "execution_count": 44,
   "outputs": [
    {
     "name": "stdout",
     "output_type": "stream",
     "text": [
      "Epoch 1/8\n",
      "69/69 [==============================] - 56s 741ms/step - loss: 0.6389 - recall_7: 0.9534 - val_loss: 0.5652 - val_recall_7: 0.8321\n",
      "Epoch 2/8\n",
      "69/69 [==============================] - 53s 767ms/step - loss: 0.3540 - recall_7: 0.9250 - val_loss: 0.1809 - val_recall_7: 0.9526\n",
      "Epoch 3/8\n",
      "69/69 [==============================] - 65s 947ms/step - loss: 0.0449 - recall_7: 0.9973 - val_loss: 0.0800 - val_recall_7: 0.9818\n",
      "Epoch 4/8\n",
      "69/69 [==============================] - 64s 928ms/step - loss: 0.0335 - recall_7: 0.9927 - val_loss: 0.0648 - val_recall_7: 0.9891\n",
      "Epoch 5/8\n",
      "69/69 [==============================] - 53s 770ms/step - loss: 0.0215 - recall_7: 0.9991 - val_loss: 0.0564 - val_recall_7: 0.9927\n",
      "Epoch 6/8\n",
      "69/69 [==============================] - 53s 768ms/step - loss: 0.0210 - recall_7: 0.9954 - val_loss: 0.0635 - val_recall_7: 0.9927\n",
      "Epoch 7/8\n",
      "69/69 [==============================] - 53s 772ms/step - loss: 0.0187 - recall_7: 0.9982 - val_loss: 0.0557 - val_recall_7: 0.9854\n",
      "Epoch 8/8\n",
      "69/69 [==============================] - 54s 790ms/step - loss: 0.0139 - recall_7: 0.9991 - val_loss: 0.0424 - val_recall_7: 0.9891\n"
     ]
    }
   ],
   "source": [
    "history_gru_2=gru_model_2.fit(X_train, y_train_ohe, epochs=8, batch_size=32, validation_data=(X_test, y_test_ohe))"
   ],
   "metadata": {
    "collapsed": false
   }
  },
  {
   "cell_type": "markdown",
   "source": [
    "## Getting GloVe Weights"
   ],
   "metadata": {
    "collapsed": false
   }
  },
  {
   "cell_type": "code",
   "execution_count": 50,
   "outputs": [
    {
     "name": "stdout",
     "output_type": "stream",
     "text": [
      "Found 400000 word vectors.\n",
      "Embedding Shape: (37354, 100) \n",
      " Total words found: 26405 \n",
      " Percentage: 70.68854741125449\n",
      "Wall time: 10.3 s\n"
     ]
    }
   ],
   "source": [
    "%%time\n",
    "EMBED_SIZE = 100\n",
    "# the embed size should match the file you load glove from\n",
    "embeddings_index = {}\n",
    "f = open(r'C:\\\\Users\\\\ataer\\\\Downloads\\\\Compressed\\\\glove.6B\\\\glove.6B.100d.txt',\"r\", encoding=\"utf-8\")\n",
    "# save key/array pairs of the embeddings\n",
    "#  the key of the dictionary is the word, the array is the embedding\n",
    "for line in f:\n",
    "    values = line.split()\n",
    "    word = values[0]\n",
    "    coefs = np.asarray(values[1:], dtype='float32')\n",
    "    embeddings_index[word] = coefs\n",
    "f.close()\n",
    "\n",
    "print('Found %s word vectors.' % len(embeddings_index))\n",
    "\n",
    "# now fill in the matrix, using the ordering from the\n",
    "#  keras word tokenizer from before\n",
    "found_words = 0\n",
    "embedding_matrix = np.zeros((len(word_index) + 1, EMBED_SIZE))\n",
    "for word, i in word_index.items():\n",
    "    embedding_vector = embeddings_index.get(word)\n",
    "    if embedding_vector is not None:\n",
    "        # words not found in embedding index will be ALL-ZEROS\n",
    "        embedding_matrix[i] = embedding_vector\n",
    "        found_words = found_words+1\n",
    "\n",
    "print(\"Embedding Shape:\",embedding_matrix.shape, \"\\n\",\n",
    "      \"Total words found:\",found_words, \"\\n\",\n",
    "      \"Percentage:\",100*found_words/embedding_matrix.shape[0])"
   ],
   "metadata": {
    "collapsed": false
   }
  },
  {
   "cell_type": "code",
   "execution_count": 52,
   "outputs": [],
   "source": [
    "from tensorflow.keras.layers import Embedding\n",
    "\n",
    "# save this embedding now\n",
    "embedding_layer = Embedding(len(word_index) + 1,\n",
    "                            EMBED_SIZE,\n",
    "                            weights=[embedding_matrix],# here is the embedding getting saved\n",
    "                            input_length=MAX_ART_LEN,\n",
    "                            trainable=False)"
   ],
   "metadata": {
    "collapsed": false
   }
  },
  {
   "cell_type": "markdown",
   "source": [
    "## GRU Model with Glove"
   ],
   "metadata": {
    "collapsed": false
   }
  },
  {
   "cell_type": "code",
   "execution_count": 53,
   "outputs": [
    {
     "name": "stdout",
     "output_type": "stream",
     "text": [
      "Model: \"sequential\"\n",
      "_________________________________________________________________\n",
      " Layer (type)                Output Shape              Param #   \n",
      "=================================================================\n",
      " embedding_2 (Embedding)     (None, 250, 100)          3735400   \n",
      "                                                                 \n",
      " gru_9 (GRU)                 (None, 100)               60600     \n",
      "                                                                 \n",
      " dense_10 (Dense)            (None, 1)                 101       \n",
      "                                                                 \n",
      "=================================================================\n",
      "Total params: 3,796,101\n",
      "Trainable params: 60,701\n",
      "Non-trainable params: 3,735,400\n",
      "_________________________________________________________________\n",
      "None\n"
     ]
    }
   ],
   "source": [
    "from tensorflow.keras.models import Sequential\n",
    "from tensorflow.keras.layers import Dense\n",
    "\n",
    "gru_model_3 = Sequential()\n",
    "gru_model_3.add(embedding_layer)\n",
    "gru_model_3.add(GRU(100,dropout=0.2, recurrent_dropout=0.2))\n",
    "gru_model_3.add(Dense(NUM_CLASSES, activation='sigmoid'))\n",
    "gru_model_3.compile(loss='binary_crossentropy',\n",
    "              optimizer=opt,\n",
    "              metrics=[tf.keras.metrics.Recall()])\n",
    "print(gru_model_3.summary())"
   ],
   "metadata": {
    "collapsed": false
   }
  },
  {
   "cell_type": "code",
   "execution_count": 55,
   "outputs": [
    {
     "name": "stdout",
     "output_type": "stream",
     "text": [
      "Epoch 1/8\n",
      "69/69 [==============================] - 31s 414ms/step - loss: 0.5692 - recall_8: 0.7569 - val_loss: 0.4933 - val_recall_8: 0.7591\n",
      "Epoch 2/8\n",
      "69/69 [==============================] - 29s 420ms/step - loss: 0.4525 - recall_8: 0.7971 - val_loss: 0.4292 - val_recall_8: 0.8102\n",
      "Epoch 3/8\n",
      "69/69 [==============================] - 29s 424ms/step - loss: 0.3493 - recall_8: 0.8629 - val_loss: 0.4973 - val_recall_8: 0.6533\n",
      "Epoch 4/8\n",
      "69/69 [==============================] - 30s 428ms/step - loss: 0.2570 - recall_8: 0.8985 - val_loss: 0.2267 - val_recall_8: 0.9635\n",
      "Epoch 5/8\n",
      "69/69 [==============================] - 30s 439ms/step - loss: 0.2003 - recall_8: 0.9305 - val_loss: 0.1960 - val_recall_8: 0.9124\n",
      "Epoch 6/8\n",
      "69/69 [==============================] - 31s 450ms/step - loss: 0.1980 - recall_8: 0.9424 - val_loss: 0.2228 - val_recall_8: 0.8832\n",
      "Epoch 7/8\n",
      "69/69 [==============================] - 30s 432ms/step - loss: 0.1864 - recall_8: 0.9378 - val_loss: 0.3611 - val_recall_8: 0.7883\n",
      "Epoch 8/8\n",
      "69/69 [==============================] - 30s 432ms/step - loss: 0.1639 - recall_8: 0.9506 - val_loss: 0.1795 - val_recall_8: 0.9635\n"
     ]
    }
   ],
   "source": [
    "# Start the timer\n",
    "start_time = time.time()\n",
    "\n",
    "history_gru_3 = gru_model_3.fit(X_train, y_train_ohe, epochs=8, batch_size=32, validation_data=(X_test,y_test_ohe))\n",
    "\n",
    "# Stop the timer\n",
    "end_time = time.time()\n",
    "\n",
    "# Calculate the elapsed time\n",
    "elapsed_time_numberbatch = end_time - start_time"
   ],
   "metadata": {
    "collapsed": false
   }
  },
  {
   "cell_type": "markdown",
   "source": [
    "## Getting ConceptNet NumberBatch Weights"
   ],
   "metadata": {
    "collapsed": false
   }
  },
  {
   "cell_type": "code",
   "execution_count": 59,
   "outputs": [
    {
     "name": "stdout",
     "output_type": "stream",
     "text": [
      "Found 516783 word vectors.\n",
      "Embedding Shape: (37354, 300) \n",
      " Total words found: 22661 \n",
      " Percentage: 60.66552444182685\n",
      "Wall time: 38.7 s\n"
     ]
    }
   ],
   "source": [
    "%%time\n",
    "EMBED_SIZE = 300\n",
    "# the embed size should match the file you load glove from\n",
    "embeddings_index = {}\n",
    "f = open(r'C:\\\\Users\\\\ataer\\\\Downloads\\\\Compressed\\\\glove.6B\\\\numberbatch-en.txt',\"r\", encoding=\"utf-8\")\n",
    "# save key/array pairs of the embeddings\n",
    "#  the key of the dictionary is the word, the array is the embedding\n",
    "for line in f:\n",
    "    values = line.split()\n",
    "    word = values[0]\n",
    "    coefs = np.asarray(values[1:], dtype='float32')\n",
    "    embeddings_index[word] = coefs\n",
    "f.close()\n",
    "\n",
    "print('Found %s word vectors.' % len(embeddings_index))\n",
    "\n",
    "# now fill in the matrix, using the ordering from the\n",
    "#  keras word tokenizer from before\n",
    "found_words = 0\n",
    "embedding_matrix = np.zeros((len(word_index) + 1, EMBED_SIZE))\n",
    "for word, i in word_index.items():\n",
    "    embedding_vector = embeddings_index.get(word)\n",
    "    if embedding_vector is not None:\n",
    "        # words not found in embedding index will be ALL-ZEROS\n",
    "        embedding_matrix[i] = embedding_vector\n",
    "        found_words = found_words+1\n",
    "\n",
    "print(\"Embedding Shape:\",embedding_matrix.shape, \"\\n\",\n",
    "      \"Total words found:\",found_words, \"\\n\",\n",
    "      \"Percentage:\",100*found_words/embedding_matrix.shape[0])"
   ],
   "metadata": {
    "collapsed": false
   }
  },
  {
   "cell_type": "code",
   "execution_count": 60,
   "outputs": [],
   "source": [
    "from tensorflow.keras.layers import Embedding\n",
    "\n",
    "# save this embedding now\n",
    "embedding_layer = Embedding(len(word_index) + 1,\n",
    "                            EMBED_SIZE,\n",
    "                            weights=[embedding_matrix],# here is the embedding getting saved\n",
    "                            input_length=MAX_ART_LEN,\n",
    "                            trainable=False)"
   ],
   "metadata": {
    "collapsed": false
   }
  },
  {
   "cell_type": "markdown",
   "source": [
    "## GRU Model with NumberBatch Weights"
   ],
   "metadata": {
    "collapsed": false
   }
  },
  {
   "cell_type": "code",
   "execution_count": 61,
   "outputs": [
    {
     "name": "stdout",
     "output_type": "stream",
     "text": [
      "Model: \"sequential_2\"\n",
      "_________________________________________________________________\n",
      " Layer (type)                Output Shape              Param #   \n",
      "=================================================================\n",
      " embedding_3 (Embedding)     (None, 250, 300)          11206200  \n",
      "                                                                 \n",
      " gru_10 (GRU)                (None, 300)               541800    \n",
      "                                                                 \n",
      " dense_11 (Dense)            (None, 1)                 301       \n",
      "                                                                 \n",
      "=================================================================\n",
      "Total params: 11,748,301\n",
      "Trainable params: 542,101\n",
      "Non-trainable params: 11,206,200\n",
      "_________________________________________________________________\n",
      "None\n"
     ]
    }
   ],
   "source": [
    "from tensorflow.keras.models import Sequential\n",
    "from tensorflow.keras.layers import Dense\n",
    "\n",
    "gru_model_numberbatch = Sequential()\n",
    "gru_model_numberbatch.add(embedding_layer)\n",
    "gru_model_numberbatch.add(GRU(300,dropout=0.2, recurrent_dropout=0.2))\n",
    "gru_model_numberbatch.add(Dense(NUM_CLASSES, activation='sigmoid'))\n",
    "gru_model_numberbatch.compile(loss='binary_crossentropy',\n",
    "              optimizer=opt,\n",
    "              metrics=[tf.keras.metrics.Recall()])\n",
    "print(gru_model_numberbatch.summary())"
   ],
   "metadata": {
    "collapsed": false
   }
  },
  {
   "cell_type": "code",
   "execution_count": 62,
   "outputs": [
    {
     "name": "stdout",
     "output_type": "stream",
     "text": [
      "Epoch 1/8\n",
      "69/69 [==============================] - 70s 976ms/step - loss: 0.6215 - recall_9: 0.8355 - val_loss: 0.5193 - val_recall_9: 0.7701\n",
      "Epoch 2/8\n",
      "69/69 [==============================] - 68s 989ms/step - loss: 0.3182 - recall_9: 0.8684 - val_loss: 0.2761 - val_recall_9: 0.9051\n",
      "Epoch 3/8\n",
      "69/69 [==============================] - 69s 999ms/step - loss: 0.2230 - recall_9: 0.9388 - val_loss: 0.1417 - val_recall_9: 0.9854\n",
      "Epoch 4/8\n",
      "69/69 [==============================] - 70s 1s/step - loss: 0.1919 - recall_9: 0.9497 - val_loss: 0.1826 - val_recall_9: 0.9891\n",
      "Epoch 5/8\n",
      "69/69 [==============================] - 71s 1s/step - loss: 0.1500 - recall_9: 0.9616 - val_loss: 0.1606 - val_recall_9: 0.9453\n",
      "Epoch 6/8\n",
      "69/69 [==============================] - 69s 1s/step - loss: 0.1517 - recall_9: 0.9598 - val_loss: 0.1296 - val_recall_9: 0.9927\n",
      "Epoch 7/8\n",
      "69/69 [==============================] - 70s 1s/step - loss: 0.1149 - recall_9: 0.9707 - val_loss: 0.1163 - val_recall_9: 0.9781\n",
      "Epoch 8/8\n",
      "69/69 [==============================] - 69s 1s/step - loss: 0.1054 - recall_9: 0.9799 - val_loss: 0.1671 - val_recall_9: 0.9927\n"
     ]
    }
   ],
   "source": [
    "# Start the timer\n",
    "start_time = time.time()\n",
    "\n",
    "history_gru_numberbatch = gru_model_numberbatch.fit(X_train, y_train_ohe, epochs=8, batch_size=32, validation_data=(X_test,y_test_ohe))\n",
    "\n",
    "# Stop the timer\n",
    "end_time = time.time()\n",
    "\n",
    "# Calculate the elapsed time\n",
    "elapsed_time_numberbatch = end_time - start_time"
   ],
   "metadata": {
    "collapsed": false
   }
  }
 ],
 "metadata": {
  "kernelspec": {
   "display_name": "Python 3 (ipykernel)",
   "language": "python",
   "name": "python3"
  },
  "language_info": {
   "codemirror_mode": {
    "name": "ipython",
    "version": 3
   },
   "file_extension": ".py",
   "mimetype": "text/x-python",
   "name": "python",
   "nbconvert_exporter": "python",
   "pygments_lexer": "ipython3",
   "version": "3.8.15"
  }
 },
 "nbformat": 4,
 "nbformat_minor": 5
}
